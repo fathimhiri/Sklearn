{
 "cells": [
  {
   "cell_type": "markdown",
   "id": "961bfe6f-5b0b-42c0-936b-033ccd6769ba",
   "metadata": {},
   "source": [
    "#Import Libraries\n",
    "from sklearn.model_selection import KFold\n",
    "#----------------------------------------------------\n",
    "\n",
    "#KFold Splitting data\n",
    "\n",
    "kf = KFold(n_splits=4, random_state=44, shuffle =True)\n",
    "\n",
    "#KFold Data\n",
    "for train_index, test_index in kf.split(X):\n",
    "    print('Train Data is : \\n', train_index)\n",
    "    print('Test Data is  : \\n', test_index)\n",
    "    print('-------------------------------')\n",
    "    X_train, X_test = X[train_index], X[test_index]\n",
    "    y_train, y_test = y[train_index], y[test_index]\n",
    "    print('X_train Shape is  ' , X_train.shape)\n",
    "    print('X_test Shape is  ' , X_test.shape)\n",
    "    print('y_train Shape is  ' ,y_train.shape)\n",
    "    print('y_test Shape is  ' , y_test.shape)\n",
    "    print('========================================')"
   ]
  },
  {
   "cell_type": "code",
   "execution_count": 1,
   "id": "cfb72f28-e888-4e66-9cc5-aea74f5cb3a6",
   "metadata": {},
   "outputs": [],
   "source": [
    "import numpy as np\n",
    "from sklearn.model_selection import KFold\n",
    "X = np.array([[1, 2], [3, 4], [5, 6], [7, 8]])\n",
    "y = np.array([11, 22, 33, 44])"
   ]
  },
  {
   "cell_type": "code",
   "execution_count": 2,
   "id": "0cff8919-8c0b-4a9a-b416-57bfcdbbd654",
   "metadata": {},
   "outputs": [
    {
     "data": {
      "text/plain": [
       "KFold(n_splits=2, random_state=None, shuffle=False)"
      ]
     },
     "execution_count": 2,
     "metadata": {},
     "output_type": "execute_result"
    }
   ],
   "source": [
    "nn = 2\n",
    "#nn=3\n",
    "#nn=4\n",
    "\n",
    "kf = KFold(n_splits=nn)\n",
    "kf.get_n_splits(X)\n",
    "KFold(n_splits=nn, random_state=None, shuffle=False)"
   ]
  },
  {
   "cell_type": "code",
   "execution_count": 3,
   "id": "52c7e921-93af-4636-acc3-707a32696de6",
   "metadata": {},
   "outputs": [
    {
     "name": "stdout",
     "output_type": "stream",
     "text": [
      "TRAIN: [2 3] TEST: [0 1]\n",
      "X_train \n",
      " [[5 6]\n",
      " [7 8]]\n",
      "X_test \n",
      " [[1 2]\n",
      " [3 4]]\n",
      "y_train \n",
      " [33 44]\n",
      "y_test \n",
      " [11 22]\n",
      "TRAIN: [0 1] TEST: [2 3]\n",
      "X_train \n",
      " [[1 2]\n",
      " [3 4]]\n",
      "X_test \n",
      " [[5 6]\n",
      " [7 8]]\n",
      "y_train \n",
      " [11 22]\n",
      "y_test \n",
      " [33 44]\n"
     ]
    }
   ],
   "source": [
    "for train_index, test_index in kf.split(X):\n",
    "    print(\"TRAIN:\", train_index, \"TEST:\", test_index)\n",
    "    X_train, X_test = X[train_index], X[test_index]\n",
    "    y_train, y_test = y[train_index], y[test_index]\n",
    "    print('X_train \\n' , X_train)\n",
    "    print('X_test \\n' , X_test)\n",
    "    print('y_train \\n' ,y_train)\n",
    "    print('y_test \\n' , y_test)"
   ]
  },
  {
   "cell_type": "code",
   "execution_count": null,
   "id": "bc50ac5c-db9a-4033-8e44-c00db59acb58",
   "metadata": {},
   "outputs": [],
   "source": []
  }
 ],
 "metadata": {
  "kernelspec": {
   "display_name": "Python 3",
   "language": "python",
   "name": "python3"
  },
  "language_info": {
   "codemirror_mode": {
    "name": "ipython",
    "version": 3
   },
   "file_extension": ".py",
   "mimetype": "text/x-python",
   "name": "python",
   "nbconvert_exporter": "python",
   "pygments_lexer": "ipython3",
   "version": "3.8.8"
  }
 },
 "nbformat": 4,
 "nbformat_minor": 5
}
