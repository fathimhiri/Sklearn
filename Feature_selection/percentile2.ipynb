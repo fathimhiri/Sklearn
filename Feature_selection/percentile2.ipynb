{
 "cells": [
  {
   "cell_type": "code",
   "execution_count": 1,
   "id": "6d19da75-feea-4ef7-8bbf-2865e1b9b44a",
   "metadata": {},
   "outputs": [],
   "source": [
    "from sklearn.datasets import load_breast_cancer\n",
    "from sklearn.feature_selection import SelectPercentile   , chi2 "
   ]
  },
  {
   "cell_type": "code",
   "execution_count": 2,
   "id": "862d5a3b-c875-4898-9c3b-938e9f974925",
   "metadata": {},
   "outputs": [],
   "source": [
    "data = load_breast_cancer()\n",
    "X = data.data\n",
    "y = data.target\n",
    "X.shape\n",
    "sel = SelectPercentile(score_func = chi2 , percentile = 20).fit_transform(X,y)"
   ]
  },
  {
   "cell_type": "code",
   "execution_count": 3,
   "id": "036c6448-757a-4787-bf88-45e8b2331efb",
   "metadata": {},
   "outputs": [
    {
     "data": {
      "text/plain": [
       "(569, 6)"
      ]
     },
     "execution_count": 3,
     "metadata": {},
     "output_type": "execute_result"
    }
   ],
   "source": [
    "sel.shape"
   ]
  },
  {
   "cell_type": "code",
   "execution_count": null,
   "id": "d406f346-4e6d-41b3-b59a-910d142dbb20",
   "metadata": {},
   "outputs": [],
   "source": []
  }
 ],
 "metadata": {
  "kernelspec": {
   "display_name": "Python 3",
   "language": "python",
   "name": "python3"
  },
  "language_info": {
   "codemirror_mode": {
    "name": "ipython",
    "version": 3
   },
   "file_extension": ".py",
   "mimetype": "text/x-python",
   "name": "python",
   "nbconvert_exporter": "python",
   "pygments_lexer": "ipython3",
   "version": "3.8.8"
  }
 },
 "nbformat": 4,
 "nbformat_minor": 5
}
