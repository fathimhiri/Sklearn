{
 "cells": [
  {
   "cell_type": "code",
   "execution_count": 12,
   "id": "278ae482-7098-4938-af02-e32eeabf3308",
   "metadata": {},
   "outputs": [],
   "source": [
    "import numpy as np\n",
    "\n",
    "from sklearn.impute import SimpleImputer\n",
    "\n",
    "data = [[1,2,np.nan],\n",
    "        [3,np.nan,1],\n",
    "        [5,np.nan,0],\n",
    "        [np.nan,4,6 ],\n",
    "        [5,0,np.nan],\n",
    "        [4,5,5]]"
   ]
  },
  {
   "cell_type": "code",
   "execution_count": 13,
   "id": "15fc9988-1ef3-443b-a54d-92d78e5ea1be",
   "metadata": {},
   "outputs": [
    {
     "name": "stdout",
     "output_type": "stream",
     "text": [
      "[[1.   2.   3.  ]\n",
      " [3.   2.75 1.  ]\n",
      " [5.   2.75 0.  ]\n",
      " [3.6  4.   6.  ]\n",
      " [5.   0.   3.  ]\n",
      " [4.   5.   5.  ]]\n"
     ]
    }
   ],
   "source": [
    "imp = SimpleImputer(missing_values = np.nan, strategy = 'mean')\n",
    "imp = imp.fit(data)\n",
    "\n",
    "modifiedData = imp.transform(data)\n",
    "print(modifiedData)"
   ]
  },
  {
   "cell_type": "markdown",
   "id": "153866cd-d116-4565-9143-3cdd53d62aa1",
   "metadata": {},
   "source": [
    "\n",
    "\n",
    "#--------------------------------------------------------------------------------------\n",
    "\"\"\" strategy: str, default=’mean’\n",
    "The imputation strategy.\n",
    "\n",
    "If “mean”, then replace missing values using the mean along each column. Can only be used with numeric data.\n",
    "\n",
    "If “median”, then replace missing values using the median along each column. Can only be used with numeric data.\n",
    "\n",
    "If “most_frequent”, then replace missing using the most frequent value along each column. Can be used with strings or numeric data. If there is more than one such value, only the smallest is returned.\n",
    "\n",
    "If “constant”, then replace missing values with fill_value. Can be used with strings or numeric data.\n",
    "\n",
    "New in version 0.20: strategy=”constant” for fixed value imputation.\"\"\""
   ]
  },
  {
   "cell_type": "code",
   "execution_count": null,
   "id": "d7bd746a-f75a-4c8d-b148-62d6438d34b7",
   "metadata": {},
   "outputs": [],
   "source": []
  }
 ],
 "metadata": {
  "kernelspec": {
   "display_name": "Python 3",
   "language": "python",
   "name": "python3"
  },
  "language_info": {
   "codemirror_mode": {
    "name": "ipython",
    "version": 3
   },
   "file_extension": ".py",
   "mimetype": "text/x-python",
   "name": "python",
   "nbconvert_exporter": "python",
   "pygments_lexer": "ipython3",
   "version": "3.8.8"
  }
 },
 "nbformat": 4,
 "nbformat_minor": 5
}
