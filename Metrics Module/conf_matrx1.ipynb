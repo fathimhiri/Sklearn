{
 "cells": [
  {
   "cell_type": "code",
   "execution_count": 2,
   "id": "cb0feb0c-cb6b-4756-955f-5544e3004477",
   "metadata": {},
   "outputs": [],
   "source": [
    "from sklearn.metrics import confusion_matrix\n",
    "y_pred = ['a','a','b','b','a','b','a','a','a','a']\n",
    "y_true  = ['a','b','b','a','b','a','a','b','a','b']"
   ]
  },
  {
   "cell_type": "code",
   "execution_count": 3,
   "id": "affe6055-7584-405e-927c-33285952b2de",
   "metadata": {},
   "outputs": [
    {
     "data": {
      "text/plain": [
       "array([[3, 2],\n",
       "       [4, 1]], dtype=int64)"
      ]
     },
     "execution_count": 3,
     "metadata": {},
     "output_type": "execute_result"
    }
   ],
   "source": [
    "confusion_matrix (y_true, y_pred)"
   ]
  },
  {
   "cell_type": "code",
   "execution_count": 4,
   "id": "72ebf81c-f464-457e-afe6-e8a5e9812a0b",
   "metadata": {},
   "outputs": [],
   "source": [
    "y_pred = ['a','b','c','a','b','c','a','b','c','a']\n",
    "y_true =  ['a','a','b','b','a','b','c','c','b','b']"
   ]
  },
  {
   "cell_type": "code",
   "execution_count": 5,
   "id": "758be513-453a-4d2f-ac2c-224b30580619",
   "metadata": {},
   "outputs": [
    {
     "data": {
      "text/plain": [
       "array([[1, 2, 0],\n",
       "       [2, 0, 3],\n",
       "       [1, 1, 0]], dtype=int64)"
      ]
     },
     "execution_count": 5,
     "metadata": {},
     "output_type": "execute_result"
    }
   ],
   "source": [
    "confusion_matrix(y_true,y_pred)"
   ]
  },
  {
   "cell_type": "code",
   "execution_count": 6,
   "id": "6691a0e2-9774-4eb8-b2da-a89eb878ade9",
   "metadata": {},
   "outputs": [
    {
     "data": {
      "text/plain": [
       "array([[1, 2, 1],\n",
       "       [0, 1, 3],\n",
       "       [3, 1, 0]], dtype=int64)"
      ]
     },
     "execution_count": 6,
     "metadata": {},
     "output_type": "execute_result"
    }
   ],
   "source": [
    "y_pred = [5,8,9,9,8,5,5,9,8,5,9,8]\n",
    "y_true =  [9,9,8,8,5,5,9,5,8,9,8,5]\n",
    "confusion_matrix(y_true, y_pred)"
   ]
  },
  {
   "cell_type": "code",
   "execution_count": null,
   "id": "493bff7a-8398-4213-bd0d-563b3eedd3cc",
   "metadata": {},
   "outputs": [],
   "source": []
  }
 ],
 "metadata": {
  "kernelspec": {
   "display_name": "Python 3",
   "language": "python",
   "name": "python3"
  },
  "language_info": {
   "codemirror_mode": {
    "name": "ipython",
    "version": 3
   },
   "file_extension": ".py",
   "mimetype": "text/x-python",
   "name": "python",
   "nbconvert_exporter": "python",
   "pygments_lexer": "ipython3",
   "version": "3.8.8"
  }
 },
 "nbformat": 4,
 "nbformat_minor": 5
}
