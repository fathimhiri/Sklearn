{
 "cells": [
  {
   "cell_type": "code",
   "execution_count": 9,
   "id": "f88f2b13-0031-4840-9c73-efe8b4a34106",
   "metadata": {},
   "outputs": [
    {
     "data": {
      "text/plain": [
       "5.0"
      ]
     },
     "execution_count": 9,
     "metadata": {},
     "output_type": "execute_result"
    }
   ],
   "source": [
    "from sklearn.metrics import mean_absolute_error\n",
    "y_true =  [1,2,3]\n",
    "y_pred = [7,8,6]\n",
    "\n",
    "mean_absolute_error(y_true,y_pred)\n"
   ]
  },
  {
   "cell_type": "code",
   "execution_count": 10,
   "id": "a6afd320-c29e-4d96-9b45-ffba88dfd0e4",
   "metadata": {},
   "outputs": [],
   "source": [
    "y_true = [[0.5, 1], [-1, 1], [7, -6]]\n",
    "y_pred = [[0, 2], [-1, 2], [8, -5]]"
   ]
  },
  {
   "cell_type": "code",
   "execution_count": 11,
   "id": "23958353-3a5d-48ef-92db-3e6374c8ce72",
   "metadata": {},
   "outputs": [
    {
     "data": {
      "text/plain": [
       "0.75"
      ]
     },
     "execution_count": 11,
     "metadata": {},
     "output_type": "execute_result"
    }
   ],
   "source": [
    "mean_absolute_error(y_true, y_pred) # 0.75\n",
    "mean_absolute_error(y_true, y_pred, multioutput='uniform_average') # 0.75"
   ]
  },
  {
   "cell_type": "code",
   "execution_count": 12,
   "id": "50a2ed61-fe73-4fa6-b01f-32b488fd427b",
   "metadata": {},
   "outputs": [
    {
     "data": {
      "text/plain": [
       "array([0.5, 1. ])"
      ]
     },
     "execution_count": 12,
     "metadata": {},
     "output_type": "execute_result"
    }
   ],
   "source": [
    "mean_absolute_error(y_true, y_pred, multioutput='raw_values') # array([0.5, 1. ])\n"
   ]
  },
  {
   "cell_type": "code",
   "execution_count": null,
   "id": "f11f5ab4-ae10-4a31-a73f-c116fb07606b",
   "metadata": {},
   "outputs": [],
   "source": []
  }
 ],
 "metadata": {
  "kernelspec": {
   "display_name": "Python 3",
   "language": "python",
   "name": "python3"
  },
  "language_info": {
   "codemirror_mode": {
    "name": "ipython",
    "version": 3
   },
   "file_extension": ".py",
   "mimetype": "text/x-python",
   "name": "python",
   "nbconvert_exporter": "python",
   "pygments_lexer": "ipython3",
   "version": "3.8.8"
  }
 },
 "nbformat": 4,
 "nbformat_minor": 5
}
