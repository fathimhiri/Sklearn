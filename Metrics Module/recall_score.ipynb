{
 "cells": [
  {
   "cell_type": "code",
   "execution_count": null,
   "id": "8ad52026-dd78-435a-8dcd-d9a13c96a749",
   "metadata": {},
   "outputs": [],
   "source": [
    "\n",
    "(predicted positif / real positif)\n",
    "#Calculating Recall Score : (recall score mean Sensitivity) (TP / float(TP + FN))   1 / 1+2  \n",
    "#recall_score(y_true, y_pred, labels=None, pos_label=1, average=’binary’, sample_weight=None)\n",
    "\n",
    "RecallScore = recall_score(y_test, y_pred, average='micro') #it can be : binary,macro,weighted,samples\n",
    "#print('Recall Score is : ', RecallScore)"
   ]
  },
  {
   "cell_type": "markdown",
   "id": "547443b5-bdee-4243-b251-8a7a2d16a10e",
   "metadata": {},
   "source": []
  },
  {
   "cell_type": "code",
   "execution_count": 4,
   "id": "cbd4578c-b333-4e22-923c-e8caa32d7198",
   "metadata": {},
   "outputs": [
    {
     "data": {
      "text/plain": [
       "array([0.33333333, 0.        , 0.        ])"
      ]
     },
     "execution_count": 4,
     "metadata": {},
     "output_type": "execute_result"
    }
   ],
   "source": [
    "from sklearn.metrics import recall_score\n",
    "y_pred =  ['a','b','c','a','b','c','a','b','c','a']\n",
    "y_true =   ['a','a','b','b','a','b','c','c','b','b']\n",
    "recall_score(y_true, y_pred, average=None)"
   ]
  },
  {
   "cell_type": "code",
   "execution_count": null,
   "id": "6861d983-696f-4dfa-a7d9-f84f7d4817db",
   "metadata": {},
   "outputs": [],
   "source": []
  }
 ],
 "metadata": {
  "kernelspec": {
   "display_name": "Python 3",
   "language": "python",
   "name": "python3"
  },
  "language_info": {
   "codemirror_mode": {
    "name": "ipython",
    "version": 3
   },
   "file_extension": ".py",
   "mimetype": "text/x-python",
   "name": "python",
   "nbconvert_exporter": "python",
   "pygments_lexer": "ipython3",
   "version": "3.8.8"
  }
 },
 "nbformat": 4,
 "nbformat_minor": 5
}
