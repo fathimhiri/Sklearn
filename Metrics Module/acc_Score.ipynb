{
 "cells": [
  {
   "cell_type": "code",
   "execution_count": 1,
   "id": "97ceb6c8-0c78-4e43-966a-09465d4591c0",
   "metadata": {},
   "outputs": [],
   "source": [
    "from sklearn.metrics import accuracy_score\n",
    "y_pred = [0, 2, 1, 3,5,3]\n",
    "y_true = [0, 1, 2, 3,5,3]\n"
   ]
  },
  {
   "cell_type": "code",
   "execution_count": 6,
   "id": "d8ec5a26-e85a-4b30-904e-6a604245e63d",
   "metadata": {},
   "outputs": [
    {
     "name": "stdout",
     "output_type": "stream",
     "text": [
      "0.6666666666666666\n"
     ]
    }
   ],
   "source": [
    "print(accuracy_score(y_true, y_pred)) # fraction of all Trues (tP and TN ) over everything \n",
    "\n",
    "#Calculating Accuracy Score  : ((TP + TN) / float(TP + TN + FP + FN))\n",
    "#here normalize=True (default)"
   ]
  },
  {
   "cell_type": "code",
   "execution_count": 7,
   "id": "b8c98470-8aed-4135-92c1-7bc9c180f7e3",
   "metadata": {},
   "outputs": [
    {
     "name": "stdout",
     "output_type": "stream",
     "text": [
      "4\n"
     ]
    }
   ],
   "source": [
    "print(accuracy_score(y_true, y_pred, normalize=False)) #number of all Trues"
   ]
  },
  {
   "cell_type": "code",
   "execution_count": null,
   "id": "a5e9d2f2-004e-4722-9881-ebc1b9f9dc14",
   "metadata": {},
   "outputs": [],
   "source": []
  }
 ],
 "metadata": {
  "kernelspec": {
   "display_name": "Python 3",
   "language": "python",
   "name": "python3"
  },
  "language_info": {
   "codemirror_mode": {
    "name": "ipython",
    "version": 3
   },
   "file_extension": ".py",
   "mimetype": "text/x-python",
   "name": "python",
   "nbconvert_exporter": "python",
   "pygments_lexer": "ipython3",
   "version": "3.8.8"
  }
 },
 "nbformat": 4,
 "nbformat_minor": 5
}
