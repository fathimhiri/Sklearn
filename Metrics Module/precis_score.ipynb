{
 "cells": [
  {
   "cell_type": "markdown",
   "id": "9f42f697-b98a-438e-be36-dffa6a4cdd6e",
   "metadata": {},
   "source": [
    "how many true positif  from all positif that i predicted\n",
    "\n",
    "#Calculating Precision Score : (Specificity) #(TP / float(TP + FP))  \n",
    "# precision_score(y_true, y_pred, labels=None, pos_label=1, average=’binary’,sample_weight=None)\n",
    "\n",
    "PrecisionScore = precision_score(y_test, y_pred, average='micro') #it can be : binary,macro,weighted,samples\n",
    "#print('Precision Score is : ', PrecisionScore)"
   ]
  },
  {
   "cell_type": "code",
   "execution_count": 1,
   "id": "b9456458-c0e4-423f-b6fe-852d413afe9c",
   "metadata": {},
   "outputs": [
    {
     "data": {
      "text/plain": [
       "array([0.25, 0.  , 0.  ])"
      ]
     },
     "execution_count": 1,
     "metadata": {},
     "output_type": "execute_result"
    }
   ],
   "source": [
    "from sklearn.metrics import precision_score\n",
    " \n",
    "y_pred =  ['a','b','c','a','b','c','a','b','c','a']\n",
    "y_true =   ['a','a','b','b','a','b','c','c','b','b']\n",
    "\n",
    "precision_score(y_true, y_pred, average=None)"
   ]
  }
 ],
 "metadata": {
  "kernelspec": {
   "display_name": "Python 3",
   "language": "python",
   "name": "python3"
  },
  "language_info": {
   "codemirror_mode": {
    "name": "ipython",
    "version": 3
   },
   "file_extension": ".py",
   "mimetype": "text/x-python",
   "name": "python",
   "nbconvert_exporter": "python",
   "pygments_lexer": "ipython3",
   "version": "3.8.8"
  }
 },
 "nbformat": 4,
 "nbformat_minor": 5
}
