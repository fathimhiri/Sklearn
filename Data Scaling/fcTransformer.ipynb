{
 "cells": [
  {
   "cell_type": "markdown",
   "id": "bd05411a-d324-4477-960b-bfa01371d874",
   "metadata": {},
   "source": [
    "#Import Libraries\n",
    "from sklearn.preprocessing import FunctionTransformer\n",
    "#----------------------------------------------------\n",
    "\n",
    "#Function Transforming Data\n",
    "'''\n",
    "FunctionTransformer(func=None, inverse_func=None, validate= None,\n",
    "                    accept_sparse=False,pass_y='deprecated', check_inverse=True,\n",
    "                    kw_args=None,inv_kw_args=None)\n",
    "'''\n",
    "\n",
    "scaler = FunctionTransformer(func = lambda x: x**2,validate = True) # or func = function1\n",
    "X = scaler.fit_transform(X)"
   ]
  },
  {
   "cell_type": "code",
   "execution_count": 1,
   "id": "3a081a4a-bccd-4323-bd56-5b0a45f34416",
   "metadata": {},
   "outputs": [
    {
     "data": {
      "text/plain": [
       "array([[2.        , 1.        , 1.41421356, 1.41421356],\n",
       "       [1.        , 1.73205081, 3.        , 1.73205081],\n",
       "       [2.23606798, 2.64575131, 2.23606798, 1.        ]])"
      ]
     },
     "execution_count": 1,
     "metadata": {},
     "output_type": "execute_result"
    }
   ],
   "source": [
    "import numpy as np\n",
    "from sklearn.preprocessing import FunctionTransformer\n",
    "\n",
    "X = [[4, 1, 2, 2], [1, 3, 9, 3], [5, 7, 5, 1]]\n",
    "\n",
    "def function1(z):\n",
    "    return np.sqrt(z)\n",
    "\n",
    "FT = FunctionTransformer(func = function1)\n",
    "FT.fit(X)\n",
    "newdata = FT.transform(X)\n",
    "newdata"
   ]
  },
  {
   "cell_type": "code",
   "execution_count": null,
   "id": "b4188cfb-473b-4bcf-94bc-56e0a0fe3e8b",
   "metadata": {},
   "outputs": [],
   "source": []
  },
  {
   "cell_type": "code",
   "execution_count": null,
   "id": "5eef3511-4a26-4787-ba1b-0394e0dfec71",
   "metadata": {},
   "outputs": [],
   "source": []
  }
 ],
 "metadata": {
  "kernelspec": {
   "display_name": "Python 3",
   "language": "python",
   "name": "python3"
  },
  "language_info": {
   "codemirror_mode": {
    "name": "ipython",
    "version": 3
   },
   "file_extension": ".py",
   "mimetype": "text/x-python",
   "name": "python",
   "nbconvert_exporter": "python",
   "pygments_lexer": "ipython3",
   "version": "3.8.8"
  }
 },
 "nbformat": 4,
 "nbformat_minor": 5
}
