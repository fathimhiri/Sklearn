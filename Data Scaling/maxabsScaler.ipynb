{
 "cells": [
  {
   "cell_type": "markdown",
   "id": "4fa55d2d-6c50-4acd-8a22-c103225deb94",
   "metadata": {},
   "source": [
    "#Import Libraries\n",
    "from sklearn.preprocessing import MaxAbsScaler\n",
    "#----------------------------------------------------\n",
    "\n",
    "#MaxAbsScaler Data\n",
    "\n",
    "scaler = MaxAbsScaler(copy=True)\n",
    "X = scaler.fit_transform(X)"
   ]
  },
  {
   "cell_type": "code",
   "execution_count": null,
   "id": "0dd9d775-0090-4466-96a1-269c1a109508",
   "metadata": {},
   "outputs": [],
   "source": [
    "from sklearn.preprocessing import MaxAbsScaler\n",
    "X = [[ 1., 10., 2.],\n",
    "     [ 2., 0., 0.],\n",
    "     [ 5., 1., -1.]]"
   ]
  },
  {
   "cell_type": "code",
   "execution_count": null,
   "id": "72de707b-65b1-448f-b340-f5ec74a8c98f",
   "metadata": {},
   "outputs": [],
   "source": [
    "transformer = MaxAbsScaler().fit(X)\n",
    "transformer\n",
    "transformer.transform(X)"
   ]
  },
  {
   "cell_type": "code",
   "execution_count": null,
   "id": "a87e14bc-088d-4fd3-8f51-7360a6edfdfc",
   "metadata": {},
   "outputs": [],
   "source": []
  }
 ],
 "metadata": {
  "kernelspec": {
   "display_name": "Python 3",
   "language": "python",
   "name": "python3"
  },
  "language_info": {
   "codemirror_mode": {
    "name": "ipython",
    "version": 3
   },
   "file_extension": ".py",
   "mimetype": "text/x-python",
   "name": "python",
   "nbconvert_exporter": "python",
   "pygments_lexer": "ipython3",
   "version": "3.8.8"
  }
 },
 "nbformat": 4,
 "nbformat_minor": 5
}
