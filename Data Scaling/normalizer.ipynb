{
 "cells": [
  {
   "cell_type": "markdown",
   "id": "fe96944f-0d08-44a1-b4f3-3ee48346349a",
   "metadata": {},
   "source": [
    "#Import Libraries\n",
    "from sklearn.preprocessing import Normalizer\n",
    "#----------------------------------------------------\n",
    "\n",
    "#Normalizing Data\n",
    "\n",
    "scaler = Normalizer(copy=True, norm='l2') # you can change the norm to 'l1' or 'max' \n",
    "X = scaler.fit_transform(X)"
   ]
  },
  {
   "cell_type": "code",
   "execution_count": 1,
   "id": "2fba9fda-7fe9-4f93-97fd-7d3194c2d93e",
   "metadata": {},
   "outputs": [],
   "source": [
    "from sklearn.preprocessing import Normalizer\n",
    "X = [[4, 1, 2, 2], [1, 3, 9, 3], [5, 7, 5, 1]]"
   ]
  },
  {
   "cell_type": "code",
   "execution_count": 2,
   "id": "a7e6e27f-2cc5-4b7c-8b62-489748469ce9",
   "metadata": {},
   "outputs": [],
   "source": [
    "#transformer = Normalizer(norm='l1' )\n",
    "\n",
    "#transformer = Normalizer(norm='l2' )\n",
    "\n",
    "transformer = Normalizer(norm='max' )\n"
   ]
  },
  {
   "cell_type": "code",
   "execution_count": 3,
   "id": "44aca99d-cfd0-45d3-a0be-0df282837c7f",
   "metadata": {},
   "outputs": [
    {
     "data": {
      "text/plain": [
       "array([[1.        , 0.25      , 0.5       , 0.5       ],\n",
       "       [0.11111111, 0.33333333, 1.        , 0.33333333],\n",
       "       [0.71428571, 1.        , 0.71428571, 0.14285714]])"
      ]
     },
     "execution_count": 3,
     "metadata": {},
     "output_type": "execute_result"
    }
   ],
   "source": [
    "transformer.fit(X)\n",
    "transformer.transform(X)"
   ]
  }
 ],
 "metadata": {
  "kernelspec": {
   "display_name": "Python 3",
   "language": "python",
   "name": "python3"
  },
  "language_info": {
   "codemirror_mode": {
    "name": "ipython",
    "version": 3
   },
   "file_extension": ".py",
   "mimetype": "text/x-python",
   "name": "python",
   "nbconvert_exporter": "python",
   "pygments_lexer": "ipython3",
   "version": "3.8.8"
  }
 },
 "nbformat": 4,
 "nbformat_minor": 5
}
