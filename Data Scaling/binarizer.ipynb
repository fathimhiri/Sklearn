{
 "cells": [
  {
   "cell_type": "markdown",
   "id": "507d082d-17b0-46ca-b18e-9636a2666e8f",
   "metadata": {},
   "source": [
    "#Import Libraries\n",
    "from sklearn.preprocessing import Binarizer\n",
    "#----------------------------------------------------\n",
    "\n",
    "#Binarizing Data\n",
    "\n",
    "scaler = Binarizer(threshold = 1.0)\n",
    "X = scaler.fit_transform(X)"
   ]
  },
  {
   "cell_type": "code",
   "execution_count": 1,
   "id": "1f48b61c-93e2-4d25-92a4-ec1c3bb2a144",
   "metadata": {},
   "outputs": [
    {
     "data": {
      "text/plain": [
       "array([[0., 0., 0.],\n",
       "       [1., 0., 0.],\n",
       "       [0., 0., 0.]])"
      ]
     },
     "execution_count": 1,
     "metadata": {},
     "output_type": "execute_result"
    }
   ],
   "source": [
    "from sklearn.preprocessing import Binarizer\n",
    "X = [[ 1., -1., -2.],[ 2., 0., -1.], [ 0., 1., -1.]]\n",
    "\n",
    "transformer = Binarizer(threshold=1.5 ) \n",
    "transformer.fit(X)\n",
    "\n",
    "transformer\n",
    "\n",
    "transformer.transform(X)"
   ]
  },
  {
   "cell_type": "code",
   "execution_count": null,
   "id": "10b3e05a-5b1b-4847-bbcc-5cbce9f6a402",
   "metadata": {},
   "outputs": [],
   "source": []
  }
 ],
 "metadata": {
  "kernelspec": {
   "display_name": "Python 3",
   "language": "python",
   "name": "python3"
  },
  "language_info": {
   "codemirror_mode": {
    "name": "ipython",
    "version": 3
   },
   "file_extension": ".py",
   "mimetype": "text/x-python",
   "name": "python",
   "nbconvert_exporter": "python",
   "pygments_lexer": "ipython3",
   "version": "3.8.8"
  }
 },
 "nbformat": 4,
 "nbformat_minor": 5
}
