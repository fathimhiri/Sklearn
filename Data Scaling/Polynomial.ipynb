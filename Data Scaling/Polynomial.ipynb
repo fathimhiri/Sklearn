{
 "cells": [
  {
   "cell_type": "markdown",
   "id": "66eddf4d-0ee6-4431-b96b-a1d4f7d01a8a",
   "metadata": {},
   "source": [
    "#Import Libraries\n",
    "from sklearn.preprocessing import PolynomialFeatures\n",
    "#----------------------------------------------------\n",
    "\n",
    "#Polynomial the Data\n",
    "\n",
    "scaler = PolynomialFeatures(degree=3, include_bias=True, interaction_only=False)\n",
    "X = scaler.fit_transform(X)"
   ]
  },
  {
   "cell_type": "code",
   "execution_count": 1,
   "id": "ed09924c-b397-4d9d-afae-f3ecf358a157",
   "metadata": {},
   "outputs": [
    {
     "data": {
      "text/plain": [
       "array([[ 1.,  0.,  1.,  0.],\n",
       "       [ 1.,  2.,  3.,  6.],\n",
       "       [ 1.,  4.,  5., 20.]])"
      ]
     },
     "execution_count": 1,
     "metadata": {},
     "output_type": "execute_result"
    }
   ],
   "source": [
    "import numpy as np\n",
    "from sklearn.preprocessing import PolynomialFeatures\n",
    "X = np.arange(6).reshape(3, 2)\n",
    "\n",
    "\n",
    "poly = PolynomialFeatures(degree=2 , include_bias = True)\n",
    "poly.fit_transform(X)\n",
    "\n",
    "\n",
    "\n",
    "poly = PolynomialFeatures(interaction_only=True)\n",
    "poly.fit_transform(X)"
   ]
  },
  {
   "cell_type": "code",
   "execution_count": null,
   "id": "fca9488e-c360-4079-b9ee-1ee3714d2c64",
   "metadata": {},
   "outputs": [],
   "source": []
  }
 ],
 "metadata": {
  "kernelspec": {
   "display_name": "Python 3",
   "language": "python",
   "name": "python3"
  },
  "language_info": {
   "codemirror_mode": {
    "name": "ipython",
    "version": 3
   },
   "file_extension": ".py",
   "mimetype": "text/x-python",
   "name": "python",
   "nbconvert_exporter": "python",
   "pygments_lexer": "ipython3",
   "version": "3.8.8"
  }
 },
 "nbformat": 4,
 "nbformat_minor": 5
}
