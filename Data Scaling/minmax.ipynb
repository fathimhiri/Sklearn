{
 "cells": [
  {
   "cell_type": "markdown",
   "id": "aa77d605-6dce-4a2d-a81f-48888ff20cdd",
   "metadata": {},
   "source": [
    "#Import Libraries\n",
    "from sklearn.preprocessing import MinMaxScaler\n",
    "#----------------------------------------------------\n",
    "\n",
    "#MinMaxScaler for Data\n",
    "\n",
    "scaler = MinMaxScaler(copy=True, feature_range=(0, 1))\n",
    "X = scaler.fit_transform(X)"
   ]
  },
  {
   "cell_type": "code",
   "execution_count": 1,
   "id": "af82786c-bf60-4f40-af69-59665448d56d",
   "metadata": {},
   "outputs": [
    {
     "data": {
      "text/plain": [
       "MinMaxScaler()"
      ]
     },
     "execution_count": 1,
     "metadata": {},
     "output_type": "execute_result"
    }
   ],
   "source": [
    "from sklearn.preprocessing import MinMaxScaler\n",
    "data = [[-1, 2], [-0.5, 6], [0, 10], [1, 18]]\n",
    "scaler = MinMaxScaler()\n",
    "scaler.fit(data)"
   ]
  },
  {
   "cell_type": "code",
   "execution_count": 2,
   "id": "0e597616-c4a9-4caa-b3b6-76facf219737",
   "metadata": {},
   "outputs": [
    {
     "name": "stdout",
     "output_type": "stream",
     "text": [
      "[ 2. 16.]\n",
      "[-1.  2.]\n",
      "[ 1. 18.]\n"
     ]
    }
   ],
   "source": [
    "print(scaler.data_range_)\n",
    "print(scaler.data_min_)\n",
    "print(scaler.data_max_)"
   ]
  },
  {
   "cell_type": "code",
   "execution_count": 3,
   "id": "a4512bee-0186-4b6f-8c98-3baff8e414cc",
   "metadata": {},
   "outputs": [
    {
     "name": "stdout",
     "output_type": "stream",
     "text": [
      "[[0.   0.  ]\n",
      " [0.25 0.25]\n",
      " [0.5  0.5 ]\n",
      " [1.   1.  ]]\n"
     ]
    }
   ],
   "source": [
    "newdata = scaler.transform(data)\n",
    "print(newdata)"
   ]
  },
  {
   "cell_type": "code",
   "execution_count": 4,
   "id": "e719e4ac-e04e-46e4-9c3e-d78622cc9a7e",
   "metadata": {},
   "outputs": [
    {
     "name": "stdout",
     "output_type": "stream",
     "text": [
      "[[0.   0.  ]\n",
      " [0.25 0.25]\n",
      " [0.5  0.5 ]\n",
      " [1.   1.  ]]\n"
     ]
    }
   ],
   "source": [
    "newdata = scaler.fit_transform(data)\n",
    "print(newdata)"
   ]
  },
  {
   "cell_type": "code",
   "execution_count": 5,
   "id": "ab1aab53-e239-4f39-bd12-cb3490239ec0",
   "metadata": {},
   "outputs": [],
   "source": [
    "scaler = MinMaxScaler(feature_range = (1,5))"
   ]
  }
 ],
 "metadata": {
  "kernelspec": {
   "display_name": "Python 3",
   "language": "python",
   "name": "python3"
  },
  "language_info": {
   "codemirror_mode": {
    "name": "ipython",
    "version": 3
   },
   "file_extension": ".py",
   "mimetype": "text/x-python",
   "name": "python",
   "nbconvert_exporter": "python",
   "pygments_lexer": "ipython3",
   "version": "3.8.8"
  }
 },
 "nbformat": 4,
 "nbformat_minor": 5
}
