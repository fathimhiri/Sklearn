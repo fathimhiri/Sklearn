{
 "cells": [
  {
   "cell_type": "markdown",
   "id": "627b1215-9840-401b-9c70-73e89f60178b",
   "metadata": {},
   "source": [
    "#Import Libraries\n",
    "from sklearn.preprocessing import StandardScaler\n",
    "#----------------------------------------------------\n",
    "\n",
    "#Standard Scaler for Data\n",
    "\n",
    "scaler = StandardScaler(copy=True, with_mean=True, with_std=True)\n",
    "X = scaler.fit_transform(X)"
   ]
  },
  {
   "cell_type": "code",
   "execution_count": 1,
   "id": "e6c8992a-6e48-4998-8646-ee24db6f1747",
   "metadata": {},
   "outputs": [
    {
     "data": {
      "text/plain": [
       "StandardScaler()"
      ]
     },
     "execution_count": 1,
     "metadata": {},
     "output_type": "execute_result"
    }
   ],
   "source": [
    "from sklearn.preprocessing import StandardScaler\n",
    "data = [[0, 0], [0, 0], [1, 1], [1, 1]]\n",
    "scaler = StandardScaler()\n",
    "scaler.fit(data)\n"
   ]
  },
  {
   "cell_type": "code",
   "execution_count": 2,
   "id": "54aa4bbf-2aa1-468b-b17b-b77cbd6c62f5",
   "metadata": {},
   "outputs": [
    {
     "name": "stdout",
     "output_type": "stream",
     "text": [
      "[0.5 0.5]\n"
     ]
    }
   ],
   "source": [
    "print(scaler.mean_)"
   ]
  },
  {
   "cell_type": "code",
   "execution_count": 3,
   "id": "0289c3e6-d2fe-4426-8603-0988a2a0d4c7",
   "metadata": {},
   "outputs": [
    {
     "name": "stdout",
     "output_type": "stream",
     "text": [
      "[[-1. -1.]\n",
      " [-1. -1.]\n",
      " [ 1.  1.]\n",
      " [ 1.  1.]]\n"
     ]
    }
   ],
   "source": [
    "newdata = scaler.transform(data)\n",
    "print(newdata)"
   ]
  },
  {
   "cell_type": "code",
   "execution_count": 4,
   "id": "7930d404-980e-4891-a64a-66f3d5ae2792",
   "metadata": {},
   "outputs": [
    {
     "name": "stdout",
     "output_type": "stream",
     "text": [
      "[[-1. -1.]\n",
      " [-1. -1.]\n",
      " [ 1.  1.]\n",
      " [ 1.  1.]]\n"
     ]
    }
   ],
   "source": [
    "newdata = scaler.fit_transform(data) \n",
    "print(newdata)"
   ]
  }
 ],
 "metadata": {
  "kernelspec": {
   "display_name": "Python 3",
   "language": "python",
   "name": "python3"
  },
  "language_info": {
   "codemirror_mode": {
    "name": "ipython",
    "version": 3
   },
   "file_extension": ".py",
   "mimetype": "text/x-python",
   "name": "python",
   "nbconvert_exporter": "python",
   "pygments_lexer": "ipython3",
   "version": "3.8.8"
  }
 },
 "nbformat": 4,
 "nbformat_minor": 5
}
